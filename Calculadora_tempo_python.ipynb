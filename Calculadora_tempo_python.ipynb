{
 "cells": [
  {
   "cell_type": "code",
   "execution_count": 1,
   "id": "347d6503",
   "metadata": {},
   "outputs": [],
   "source": [
    "import datetime"
   ]
  },
  {
   "cell_type": "code",
   "execution_count": 2,
   "id": "33631ad3",
   "metadata": {},
   "outputs": [],
   "source": [
    "agora = datetime.datetime.now()"
   ]
  },
  {
   "cell_type": "code",
   "execution_count": 3,
   "id": "e14b77ed",
   "metadata": {},
   "outputs": [
    {
     "name": "stdout",
     "output_type": "stream",
     "text": [
      "2022-12-30 07:58:04.348557\n"
     ]
    }
   ],
   "source": [
    "print(agora)"
   ]
  },
  {
   "cell_type": "code",
   "execution_count": 4,
   "id": "6480122b",
   "metadata": {},
   "outputs": [],
   "source": [
    "t = datetime.time(11, 1, 23)"
   ]
  },
  {
   "cell_type": "code",
   "execution_count": 5,
   "id": "02df2670",
   "metadata": {},
   "outputs": [
    {
     "name": "stdout",
     "output_type": "stream",
     "text": [
      "11:01:23\n"
     ]
    }
   ],
   "source": [
    "print(t)"
   ]
  },
  {
   "cell_type": "code",
   "execution_count": 6,
   "id": "180b4d91",
   "metadata": {},
   "outputs": [
    {
     "name": "stdout",
     "output_type": "stream",
     "text": [
      "Hora  : 11\n",
      "Hora  : 1\n",
      "Hora  : 23\n"
     ]
    }
   ],
   "source": [
    "print ('Hora  :', t.hour)\n",
    "print ('Hora  :', t.minute)\n",
    "print ('Hora  :', t.second)"
   ]
  },
  {
   "cell_type": "code",
   "execution_count": 7,
   "id": "7837408f",
   "metadata": {},
   "outputs": [],
   "source": [
    "hoje = datetime.date.today()"
   ]
  },
  {
   "cell_type": "code",
   "execution_count": 8,
   "id": "6b1f9948",
   "metadata": {},
   "outputs": [
    {
     "name": "stdout",
     "output_type": "stream",
     "text": [
      "2022-12-30\n"
     ]
    }
   ],
   "source": [
    "print(hoje)"
   ]
  },
  {
   "cell_type": "code",
   "execution_count": 9,
   "id": "1b4db5dc",
   "metadata": {},
   "outputs": [
    {
     "name": "stdout",
     "output_type": "stream",
     "text": [
      "Fri Dec 30 00:00:00 2022\n"
     ]
    }
   ],
   "source": [
    "print(hoje.ctime())"
   ]
  },
  {
   "cell_type": "code",
   "execution_count": 17,
   "id": "93f2011a",
   "metadata": {},
   "outputs": [],
   "source": [
    "t2 = datetime.time(11, 9, 20)"
   ]
  },
  {
   "cell_type": "code",
   "execution_count": 18,
   "id": "95b801cb",
   "metadata": {},
   "outputs": [
    {
     "name": "stdout",
     "output_type": "stream",
     "text": [
      "Digite a hora que você iniciou 10\n",
      "Agora digime o minuto 30\n"
     ]
    }
   ],
   "source": [
    "ti = int(input ('Digite a hora que você iniciou '))\n",
    "mini = int(input ('Agora digime o minuto '))"
   ]
  },
  {
   "cell_type": "code",
   "execution_count": 19,
   "id": "bb1433d9",
   "metadata": {},
   "outputs": [
    {
     "name": "stdout",
     "output_type": "stream",
     "text": [
      "10:30:00\n"
     ]
    }
   ],
   "source": [
    "t_in = datetime.time(ti, mini)\n",
    "print (t_in)"
   ]
  },
  {
   "cell_type": "code",
   "execution_count": 20,
   "id": "7af6da60",
   "metadata": {},
   "outputs": [
    {
     "name": "stdout",
     "output_type": "stream",
     "text": [
      "Digite a hora que você terminou 11\n",
      "Agora digime o minuto 30\n",
      "11:30:00\n"
     ]
    }
   ],
   "source": [
    "tf = int(input ('Digite a hora que você terminou '))\n",
    "minf = int(input ('Agora digime o minuto '))\n",
    "\n",
    "t_fin = datetime.time(tf, minf)\n",
    "print (t_fin)"
   ]
  },
  {
   "cell_type": "code",
   "execution_count": 21,
   "id": "c558a88b",
   "metadata": {},
   "outputs": [
    {
     "name": "stdout",
     "output_type": "stream",
     "text": [
      "60\n"
     ]
    }
   ],
   "source": [
    "#calculo das horas\n",
    "hr1 = (ti*60) + mini\n",
    "hr2 = (tf*60) + minf\n",
    "hrt = (hr2-hr1)\n",
    "print(hr2-hr1)"
   ]
  },
  {
   "cell_type": "code",
   "execution_count": 22,
   "id": "120d8f1f",
   "metadata": {},
   "outputs": [
    {
     "name": "stdout",
     "output_type": "stream",
     "text": [
      "Hoje você estudou por 1 horas e  0 minutos\n"
     ]
    }
   ],
   "source": [
    "hf = int(hrt/60)\n",
    "minf = hrt%60\n",
    "print ('Hoje você estudou por %r horas e  %s minutos' %(hf, minf))"
   ]
  },
  {
   "cell_type": "code",
   "execution_count": null,
   "id": "e5cdaa50",
   "metadata": {},
   "outputs": [],
   "source": []
  }
 ],
 "metadata": {
  "kernelspec": {
   "display_name": "Python 3 (ipykernel)",
   "language": "python",
   "name": "python3"
  },
  "language_info": {
   "codemirror_mode": {
    "name": "ipython",
    "version": 3
   },
   "file_extension": ".py",
   "mimetype": "text/x-python",
   "name": "python",
   "nbconvert_exporter": "python",
   "pygments_lexer": "ipython3",
   "version": "3.9.13"
  }
 },
 "nbformat": 4,
 "nbformat_minor": 5
}
